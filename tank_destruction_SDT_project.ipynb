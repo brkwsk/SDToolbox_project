{
 "cells": [
  {
   "cell_type": "code",
   "execution_count": null,
   "metadata": {
    "scrolled": false
   },
   "outputs": [],
   "source": [
    "import os\n",
    "import csv\n",
    "import cantera as ct\n",
    "import numpy as np\n",
    "import sdtoolbox.postshock as sdps\n",
    "import sdtoolbox.reflections as sdrf\n",
    "\n",
    "mech = 'gri30.cti'\n",
    "gas = ct.Solution(mech)\n",
    "gas1s = ct.Solution(mech)\n",
    "gas2s = ct.Solution(mech)\n",
    "\n",
    "print('set initial parameters of mixture:')\n",
    "print('input mole fractions of fuel')\n",
    "h2fr = float(input('H2 fraction = '))\n",
    "ch4fr = float(input('CH4 fraction = '))\n",
    "c2h6fr = float(input('C2H6 fraction = '))\n",
    "c3h8fr = float(input('C3H8 fraction = '))\n",
    "eq_ratio = float(input('equivalence ratio = '))\n",
    "temp = float(input('T (K)= '))\n",
    "press = float(input('pressure (Pa, more than 101425)= '))\n",
    "oxid = int(input('oxidizer: air - 1, or oxygen - 2?'))\n",
    "\n",
    "gas.TPX = temp, press, ('O2:1,N2:3.76')\n",
    "if(oxid == 1.0): \n",
    "    gas.set_equivalence_ratio(eq_ratio, 'H2:%s,CH4:%s,C2H6:%s,C3H8:%s'%(h2fr,ch4fr,c2h6fr,c3h8fr), 'O2:1.0,N2:3.76')\n",
    "else: \n",
    "    gas.set_equivalence_ratio(eq_ratio, 'H2:%s,CH4:%s,C2H6:%s,C3H8:%s'%(h2fr,ch4fr,c2h6fr,c3h8fr), 'O2:1.0') \n",
    "\n",
    "print('initial parameters of mixture:')    \n",
    "gas()\n",
    "mol = gas.X\n",
    "\n",
    "#calculation of frozen state after the initial shock \n",
    "U1 = sdps.CJspeed(press,temp,mol,mech,fullOutput=False)\n",
    "print('Chapman - Jouguet detonation speed of the initial shock = %6.2f m/s'%U1)\n",
    "gas1s = sdps.PostShock_fr(U1,press,temp,mol,mech)\n",
    "print('state of gas after inital shock:')\n",
    "gas1s()\n",
    "\n",
    "#calculation of frozen state after the reflected shock\n",
    "p3,UR,gas2s = sdrf.reflected_fr(gas,gas1s,gas2s,U1)\n",
    "print('reflected shock speed = %6.2f m/s'%UR)\n",
    "print('state of gas after reflected shock:')\n",
    "gas2s()\n",
    "\n",
    "#weld strength calculation\n",
    "rad = float(input('external cylinder radius [m] = '))\n",
    "wth = float(input('wall thickness [mm] = '))\n",
    "wld = float(input('weld thickness (should not exceed wall thickness) [mm] = '))\n",
    "apress = float(3.1415*((rad-(wth/1000))**2))\n",
    "print ('area of shock [m2] = %2.4f'%apress)\n",
    "aweld = float(3.1415*((rad**2)-((rad-wld/1000)**2)))\n",
    "print ('area of weld [m2] = %2.4f'%aweld)\n",
    "\n",
    "if(gas1s.P>gas2s.P):\n",
    "    peff=(gas1s.P-ct.one_atm)/1e3\n",
    "else:\n",
    "    peff=(gas2s.P-ct.one_atm)/1e3\n",
    "\n",
    "Feff = peff*apress\n",
    "Fall = (0.6667*56.2*aweld)*1e3\n",
    "\n",
    "print('allowable force = %5.3f kN, force after shock = %5.3f kN'%(Fall,Feff))\n",
    "if(Fall>Feff):\n",
    "    print('The weld is strong enough')\n",
    "else:\n",
    "    print('The weld is too weak')\n",
    "\n"
   ]
  },
  {
   "cell_type": "code",
   "execution_count": null,
   "metadata": {},
   "outputs": [],
   "source": []
  },
  {
   "cell_type": "code",
   "execution_count": null,
   "metadata": {},
   "outputs": [],
   "source": []
  },
  {
   "cell_type": "code",
   "execution_count": null,
   "metadata": {},
   "outputs": [],
   "source": []
  }
 ],
 "metadata": {
  "kernelspec": {
   "display_name": "Python 2",
   "language": "python",
   "name": "python2"
  },
  "language_info": {
   "codemirror_mode": {
    "name": "ipython",
    "version": 2
   },
   "file_extension": ".py",
   "mimetype": "text/x-python",
   "name": "python",
   "nbconvert_exporter": "python",
   "pygments_lexer": "ipython2",
   "version": "2.7.15"
  }
 },
 "nbformat": 4,
 "nbformat_minor": 2
}
